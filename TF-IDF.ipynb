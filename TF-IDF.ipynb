{
 "cells": [
  {
   "cell_type": "code",
   "execution_count": 2,
   "metadata": {},
   "outputs": [],
   "source": [
    "import pandas as pd\n",
    "import numpy as np\n",
    "import math"
   ]
  },
  {
   "cell_type": "markdown",
   "metadata": {},
   "source": [
    "# Data"
   ]
  },
  {
   "cell_type": "code",
   "execution_count": 3,
   "metadata": {},
   "outputs": [],
   "source": [
    "txt=[\n",
    "    \"Good Boy\",\n",
    "    \"Good Girl\",\n",
    "    \"Good Boy Girl\"\n",
    "]"
   ]
  },
  {
   "cell_type": "markdown",
   "metadata": {},
   "source": [
    "# Tokenization"
   ]
  },
  {
   "cell_type": "code",
   "execution_count": 5,
   "metadata": {},
   "outputs": [],
   "source": [
    "def split_data(txt):\n",
    "    data=[]\n",
    "    for i in txt:\n",
    "        data.append(i.split(\" \"))\n",
    "    return data"
   ]
  },
  {
   "cell_type": "markdown",
   "metadata": {},
   "source": [
    "# Find Unique Words From Data"
   ]
  },
  {
   "cell_type": "code",
   "execution_count": 6,
   "metadata": {},
   "outputs": [],
   "source": [
    "def all_txt_list(data):\n",
    "    temp=[]\n",
    "    for i in data:\n",
    "        for j in i:\n",
    "            if j not in temp:\n",
    "                temp.append(j)\n",
    "    return temp"
   ]
  },
  {
   "cell_type": "code",
   "execution_count": 8,
   "metadata": {},
   "outputs": [],
   "source": [
    "# all_txt_list(data)"
   ]
  },
  {
   "cell_type": "markdown",
   "metadata": {},
   "source": [
    "# Term-Frequency(TF) Function"
   ]
  },
  {
   "cell_type": "code",
   "execution_count": 13,
   "metadata": {},
   "outputs": [],
   "source": [
    "def Term_Frequency(data):\n",
    "    Tf_full=[]\n",
    "    all_txt=all_txt_list(data)\n",
    "#     print(all_txt)\n",
    "    for i in data:\n",
    "        tf=[]\n",
    "        for j in range(len(all_txt)):\n",
    "            tf.append(i.count(all_txt[j])/len(i))\n",
    "        Tf_full.append(tf)\n",
    "#             print(j)\n",
    "#             print(i,j,all_txt[j],i.count(all_txt[j])/len(i))\n",
    "    return Tf_full,pd.DataFrame(data=Tf_full,columns=all_txt)\n"
   ]
  },
  {
   "cell_type": "code",
   "execution_count": 10,
   "metadata": {},
   "outputs": [],
   "source": [
    "# tf_mat,df=Term_Freqency(data)"
   ]
  },
  {
   "cell_type": "code",
   "execution_count": 266,
   "metadata": {},
   "outputs": [
    {
     "data": {
      "text/html": [
       "<div>\n",
       "<style scoped>\n",
       "    .dataframe tbody tr th:only-of-type {\n",
       "        vertical-align: middle;\n",
       "    }\n",
       "\n",
       "    .dataframe tbody tr th {\n",
       "        vertical-align: top;\n",
       "    }\n",
       "\n",
       "    .dataframe thead th {\n",
       "        text-align: right;\n",
       "    }\n",
       "</style>\n",
       "<table border=\"1\" class=\"dataframe\">\n",
       "  <thead>\n",
       "    <tr style=\"text-align: right;\">\n",
       "      <th></th>\n",
       "      <th>Good</th>\n",
       "      <th>Boy</th>\n",
       "      <th>Girl</th>\n",
       "    </tr>\n",
       "  </thead>\n",
       "  <tbody>\n",
       "    <tr>\n",
       "      <th>0</th>\n",
       "      <td>0.500000</td>\n",
       "      <td>0.500000</td>\n",
       "      <td>0.000000</td>\n",
       "    </tr>\n",
       "    <tr>\n",
       "      <th>1</th>\n",
       "      <td>0.500000</td>\n",
       "      <td>0.000000</td>\n",
       "      <td>0.500000</td>\n",
       "    </tr>\n",
       "    <tr>\n",
       "      <th>2</th>\n",
       "      <td>0.333333</td>\n",
       "      <td>0.333333</td>\n",
       "      <td>0.333333</td>\n",
       "    </tr>\n",
       "  </tbody>\n",
       "</table>\n",
       "</div>"
      ],
      "text/plain": [
       "       Good       Boy      Girl\n",
       "0  0.500000  0.500000  0.000000\n",
       "1  0.500000  0.000000  0.500000\n",
       "2  0.333333  0.333333  0.333333"
      ]
     },
     "execution_count": 266,
     "metadata": {},
     "output_type": "execute_result"
    }
   ],
   "source": [
    "# df"
   ]
  },
  {
   "cell_type": "markdown",
   "metadata": {},
   "source": [
    "# Inverse-Document Function"
   ]
  },
  {
   "cell_type": "code",
   "execution_count": 8,
   "metadata": {},
   "outputs": [],
   "source": [
    "def ID_Freq(data):\n",
    "    Id_list=[]\n",
    "    all_txt=all_txt_list(data)\n",
    "    for i in (all_txt):\n",
    "        count=0\n",
    "        for j in data:\n",
    "            count+=j.count(i)\n",
    "        print(i,math.log(len(txt)/count))\n",
    "        Id_list.append(math.log(len(txt)/count))\n",
    "    return Id_list\n",
    "# Id_vect=ID_Freq(data)\n",
    "# print(Id_vect)"
   ]
  },
  {
   "cell_type": "code",
   "execution_count": 270,
   "metadata": {},
   "outputs": [
    {
     "data": {
      "text/plain": [
       "[0.0, 0.4054651081081644, 0.4054651081081644]"
      ]
     },
     "execution_count": 270,
     "metadata": {},
     "output_type": "execute_result"
    }
   ],
   "source": [
    "# Id_vect\n",
    "#Good , Boy , Girl"
   ]
  },
  {
   "cell_type": "code",
   "execution_count": 236,
   "metadata": {},
   "outputs": [
    {
     "data": {
      "text/plain": [
       "array([[0.        , 0.20273255, 0.        ],\n",
       "       [0.        , 0.        , 0.20273255],\n",
       "       [0.        , 0.13515504, 0.13515504]])"
      ]
     },
     "execution_count": 236,
     "metadata": {},
     "output_type": "execute_result"
    }
   ],
   "source": [
    "# TF_IDF"
   ]
  },
  {
   "cell_type": "markdown",
   "metadata": {},
   "source": [
    "# TF-IDF Function"
   ]
  },
  {
   "cell_type": "code",
   "execution_count": 14,
   "metadata": {},
   "outputs": [
    {
     "name": "stdout",
     "output_type": "stream",
     "text": [
      "['Good Boy', 'Good Girl', 'Good Boy Girl']\n",
      "---------Term Frequency---------\n",
      "\n",
      "       Good       Boy      Girl\n",
      "0  0.500000  0.500000  0.000000\n",
      "1  0.500000  0.000000  0.500000\n",
      "2  0.333333  0.333333  0.333333\n",
      "\n",
      "-------Inverse Document------------\n",
      "\n",
      "Good 0.0\n",
      "Boy 0.4054651081081644\n",
      "Girl 0.4054651081081644\n",
      "\n",
      "-------TF-IDF---------------\n",
      "\n",
      "   Good       Boy      Girl\n",
      "0   0.0  0.202733  0.000000\n",
      "1   0.0  0.000000  0.202733\n",
      "2   0.0  0.135155  0.135155\n"
     ]
    }
   ],
   "source": [
    "def Calculate_TF_IDF(txt):\n",
    "    print(txt)\n",
    "    data=split_data(txt)\n",
    "    print(\"---------Term Frequency---------\\n\")\n",
    "    tf_mat,df=Term_Frequency(data)\n",
    "    print(df)\n",
    "    print(\"\\n-------Inverse Document------------\\n\")\n",
    "    Id_vect=ID_Freq(data) ##Good , Boy , Girl\n",
    "    print(\"\\n-------TF-IDF---------------\\n\")\n",
    "    TF_IDF=np.array(tf_mat)*np.array(Id_vect)\n",
    "    print(pd.DataFrame(data=TF_IDF,columns=[\"Good\",\"Boy\",\"Girl\"]))\n",
    "Calculate_TF_IDF(txt)"
   ]
  }
 ],
 "metadata": {
  "kernelspec": {
   "display_name": "Python 3",
   "language": "python",
   "name": "python3"
  },
  "language_info": {
   "codemirror_mode": {
    "name": "ipython",
    "version": 3
   },
   "file_extension": ".py",
   "mimetype": "text/x-python",
   "name": "python",
   "nbconvert_exporter": "python",
   "pygments_lexer": "ipython3",
   "version": "3.7.7"
  },
  "toc": {
   "base_numbering": 1,
   "nav_menu": {},
   "number_sections": true,
   "sideBar": true,
   "skip_h1_title": false,
   "title_cell": "Table of Contents",
   "title_sidebar": "Contents",
   "toc_cell": false,
   "toc_position": {},
   "toc_section_display": true,
   "toc_window_display": true
  }
 },
 "nbformat": 4,
 "nbformat_minor": 4
}
